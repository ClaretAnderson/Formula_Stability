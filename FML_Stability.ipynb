{
 "cells": [
  {
   "cell_type": "markdown",
   "id": "4e37983d",
   "metadata": {},
   "source": [
    "__<font size = 7 ><span style=\"color: orange;\"> Predicting Formula Stability: A Data-Driven Approach </span></font>__\n",
    "\n",
    "__Author:__ Anderson Claret\n",
    "\n",
    "\n",
    "This project was inspired by the article \"Machine learning approach to packaging compatibility testing in the new product development process\", published in the Journal of Intelligent Manufacturing (https://doi.org/10.1007/s10845-023-02090-8). This article highlighted the potential of machine learning (ML) to revolutionize packaging compatibility testing by reducing time and cost while improving accuracy.\n",
    "\n",
    "__References:__\n",
    "Piotrowski, N., 2023. Machine learning approach to packaging compatibility testing in the new product development process. Journal of Intelligent Manufacturing, pp.1-13.\n",
    "\n",
    "__<font size = 6 ><span style=\"color: orange;\"> Summary </span></font>__\n",
    "\n",
    "Cosmetic formula stability studies pose unique challenges due to the diverse and complex nature of cosmetic ingredients. Factors such as interactions between ingredients, exposure to light, and temperature variations can impact the stability of formulations. Traditional methods often struggle to capture these intricate relationships, making it challenging to __predict and prevent stability issues effectively__.\n",
    "\n",
    "## Challenges of Cosmetic Formula Stability Studies:\n",
    "\n",
    "- Complex data: Stability data involves multiple features (ingredients, pH, temperature, etc.) interacting in non-linear ways, making traditional analysis difficult.\n",
    "- Limited data: Generating stability data through real-time testing is expensive and time-consuming, leading to small datasets.\n",
    "- Subjectivity in Pass/Fail criteria: Defining \"stability\" can be subjective, with manufacturers and regulatory bodies having different thresholds.\n",
    "- Cost and time: Traditional testing methods are costly and slow down product development.\n",
    "\n",
    "## Innovation through Machine Learning (ML):\n",
    "\n",
    "To overcome these limitations and constraints, this project proposes a data-driven approach utilizing ML to predict formula stability. ML algorithms offer several advantages, including the ability to:\n",
    "\n",
    "- Unravel complex relationships: ML algorithms can identify hidden patterns and interactions in stability data, leading to better understanding of formula behavior.\n",
    "- Data augmentation: ML can generate synthetic data, addressing the scarcity issue and improving model generalizability.\n",
    "- Predictive models: ML models can predict stability based on readily available features, eliminating the need for extensive testing.\n",
    "- Faster development: ML can accelerate product development by predicting stability early in the formulation process.\n",
    "- Performance: ML models can omprove their performance with every new data point, making them ideal for situations with limited data availability.\n",
    "\n",
    "The models proposed in this project employs a classification approach, a subset of Supervised ML.\n",
    "\n",
    "**As this is an educational project, and no publically available dataset was found, we will <font size = 3.5><span style=\"color: orange;\"> <ins> simulate</ins> </span></font> the data.**"
   ]
  },
  {
   "cell_type": "markdown",
   "id": "20a0b415",
   "metadata": {},
   "source": [
    "At a high level, a ML model is a computational algorithm or system that learns patterns from data and makes predictions or decisions without being explicitly programmed for the specific task. On summary, this is how it works:\n",
    "\n",
    "__Learning from Data:__\n",
    "\n",
    "- Training Data: ML models start with a collection of examples (data) that showcase the problem they need to solve. This data contains inputs (features) and desired outputs (labels).\n",
    "- Learning Algorithm: The model uses a specific algorithm to analyze this data, searching for patterns and relationships between the inputs and outputs.\n",
    "- Model Development: Through this process, the model builds a mathematical representation of these patterns, essentially capturing the \"rules\" that link inputs to outputs.\n",
    "\n",
    "__Making Predictions:__\n",
    "\n",
    "- New Data: Once trained, the model can encounter new, unseen data.\n",
    "- Applying Rules: It uses the learned patterns to make predictions about the outputs for these new inputs.\n",
    "- Output Generation: The model generates predictions that mirror those found in the training data, aiming for accuracy and generalization to real-world examples."
   ]
  },
  {
   "cell_type": "markdown",
   "id": "c93a1e4c",
   "metadata": {},
   "source": [
    "<center>\n",
    "<img src=\"https://commandstech.com/wp-content/uploads/2018/11/MLWF.png\" width=\"800\" /> <figcaption> Source of Image: https://commandstech.com/ml/</figcaption>\n",
    "</center>\n",
    "<br>\n",
    "<br>"
   ]
  },
  {
   "cell_type": "markdown",
   "id": "536b2557",
   "metadata": {},
   "source": [
    "The project was made using the Python programming language. The primary objective is to enable readers to <font size = 3 ><span style=\"color: orange;\"> understand the functionalities of this tool without the expectation that they possess programming expertise. </span></font> Rather than comprehending the intricacies of the code, the aim is for readers to grasp the results at each step of the machine learning process. I have made an effort to elucidate each line of code to the best of my ability. If there are any questions, please feel free to reach out for clarification, keeping in mind that it is not assumed that the reader has knowledge of programming code composition."
   ]
  },
  {
   "cell_type": "markdown",
   "id": "62f5b16f",
   "metadata": {},
   "source": [
    "__<font size = 6 ><span style=\"color: orange;\"> 1. Importing Libraries: </span></font>__\n",
    "\n",
    "Among the standout attributes of Python is its robust library ecosystem. A Python library is essentially a script developed by someone, capable of executing a predefined set of tasks. Utilizing a Python library is as straightforward as employing the \"import\" command.\n",
    "\n",
    "PS: The __<font size = 3 ><span style=\"color: orange;\">#</span></font>__ in python is for commenting the code. I will try to comment each important line of code, explaining what it does."
   ]
  },
  {
   "cell_type": "code",
   "execution_count": 1,
   "id": "82fa483d",
   "metadata": {},
   "outputs": [
    {
     "name": "stderr",
     "output_type": "stream",
     "text": [
      "C:\\Users\\casar\\anaconda3\\envs\\env-tf-gpu\\lib\\site-packages\\scipy\\__init__.py:146: UserWarning: A NumPy version >=1.16.5 and <1.23.0 is required for this version of SciPy (detected version 1.23.2\n",
      "  warnings.warn(f\"A NumPy version >={np_minversion} and <{np_maxversion}\"\n"
     ]
    }
   ],
   "source": [
    "# Libraries for data manipulation and analysis:\n",
    "import pandas as pd  # For working with data in tabular format (DataFrames).\n",
    "import numpy as np  # For numerical computations and array operations.\n",
    "\n",
    "# Libraries for data visualization:\n",
    "import matplotlib.pyplot as plt # pyplot library for creating various plots.\n",
    "import seaborn as sns # seaborn library is used for advanced statistical data visualization.\n",
    "from pandas.io.formats.style import Styler  # Helps style a DataFrame or Series according to the data.\n",
    "\n",
    "# Libraries for machine learning:\n",
    "from sklearn.model_selection import train_test_split  # For splitting data into training and testing sets.\n",
    "from sklearn.preprocessing import StandardScaler  # For scaling features to a standard range.\n",
    "\n",
    "# Libraries for machine learning models for classification:\n",
    "from sklearn.neighbors import KNeighborsClassifier  # K-Nearest Neighbors model.\n",
    "from sklearn.svm import SVC  # Support Vector Machine model.\n",
    "from sklearn.ensemble import RandomForestClassifier  # Random Forest model.\n",
    "\n",
    "# Libraries for metrics for evaluating model performance:\n",
    "from sklearn.metrics import accuracy_score, precision_score, recall_score  # To measure model accuracy, precision, and recall.\n",
    "\n",
    "# Libraries for building deep learning models:\n",
    "from tensorflow.keras.models import Sequential  # For creating a sequential model (stacking layers).\n",
    "from tensorflow.keras.layers import Dense  # For adding fully connected layers to the model."
   ]
  },
  {
   "cell_type": "markdown",
   "id": "4f73c90f",
   "metadata": {},
   "source": [
    "__<font size = 6 ><span style=\"color: orange;\">2. Creating Simulated Data:</span></font>__"
   ]
  },
  {
   "cell_type": "markdown",
   "id": "86af3ed6",
   "metadata": {},
   "source": [
    "Due to the lack of publicly available datasets, project data was meticulously simulated, trying to capture the complexities of real-world cosmetic formula stability. Because of that, some important steps of Data Preprocessing, such as cleaning the data, addressing missing values and outliers, will not be performed, as it will not be necessary.\n",
    "\n",
    "Each feature contributes with unique information about factors that can affect cosmetic formula stability. The ML model will learn to identify patterns within these features that distinguish between stable and unstable formulas, enabling prediction of stability for new formulas based on their characteristics.\n",
    "\n",
    "These are the __Features__:\n",
    "\n",
    "- Viscosity: Affects the formula's resistance to change, degradation, and microbial growth.\n",
    "- pH: Influences ingredient stability, microbial growth, and product feel.\n",
    "- Preservative Concentration (%): Determines effectiveness against microbial contamination.\n",
    "- Active Ingredient Type: Water-soluble, oil-soluble, or amphiphilic ingredients have varying stability profiles.\n",
    "- Emulsifier Type: Ionic, nonionic, or zwitterionic emulsifiers can impact stability and compatibility.\n",
    "- Storage Temperature (°C): Higher temperatures can accelerate degradation reactions.\n",
    "- Presence of Antioxidants: Antioxidants protect against oxidation, a common cause of instability.\n",
    "- Packaging Material: Glass, plastic, and aluminum offer different levels of protection against light and oxygen.\n",
    "- Manufacturing Method: Hot, cold, or microencapsulation processes can influence ingredient interactions and stability.\n",
    "\n",
    "__Feature engineering__: Creating new features from the available data can aid in capturing important relationships between existing features. Domain expertise is indispensable for effective feature engineering. It guides the creation of features that align with the problem's nature, enabling machine learning models to capture meaningful patterns and deliver reliable insights.\n",
    "\n",
    "- Viscosity_squared: Captures non-linear effects of viscosity on stability. Might highlight formulas with exceptionally high or low viscosity that behave differently than those in the middle range.\n",
    "- pH_log: Considers the logarithmic nature of pH, where small changes can have significant impacts. Allows the model to better understand the influence of pH on stability.\n",
    "- Temp_preservative_interaction: Represents the combined effect of preservative concentration and storage temperature. Models how these factors might interact to affect stability, potentially revealing that higher temperatures require higher preservative concentrations for effectiveness.\n",
    "\n",
    "<font size = 3 ><span style=\"color: black;\"> __Please note that the selection of features for this study might not make practical sense in the real world. They were based on  available data on the internet and may not capture the full complexity of formulation considerations within the cosmetics industry. They were selected and artificially generated for maximum class separability, for educational purposes only.__ </span></font>"
   ]
  },
  {
   "cell_type": "markdown",
   "id": "e35eb39d",
   "metadata": {},
   "source": [
    "## 2.1. Creating the Features:"
   ]
  },
  {
   "cell_type": "code",
   "execution_count": 2,
   "id": "72dc2ed7",
   "metadata": {},
   "outputs": [],
   "source": [
    "# Define number of samples and features.\n",
    "n_samples = 1000 # This is the number of samples we will utilize to train and test the ML models.\n",
    "\n",
    "# These are the numerical/categoricall features that will describe the product tested.\n",
    "# We will use a pandas dataframe (pd.DataFrame) to store our simulated data. Each line below creates a feature.\n",
    "# We will call our dataframe simply \"df\".\n",
    "df = pd.DataFrame({\n",
    "    # Generating random uniform values between 3000 and 10000 for Viscosity.\n",
    "    'Viscosity': np.random.uniform(3000, 10000, size=n_samples),\n",
    "    # Generating random uniform values between 4 and 8 for pH.\n",
    "    'pH': np.random.uniform(4, 8, size=n_samples),\n",
    "    # Generating random uniform values between 0.1 and 1.0 for Preservative Concentration (%).\n",
    "    'Preservative Concentration (%)': np.random.uniform(0.1, 1.0, size=n_samples),\n",
    "    # Randomly choosing from the given options for Active Ingredient Type.\n",
    "    'Active Ingredient Type': np.random.choice(['Water-soluble', 'Oil-soluble', 'Amphiphilic'], size=n_samples, replace=True),\n",
    "    # Randomly choosing from the given options for Emulsifier Type\n",
    "    'Emulsifier Type': np.random.choice(['Ionic', 'Nonionic', 'Zwitterionic'], size=n_samples, replace=True),\n",
    "    # Generating random uniform values between 20 and 40 for Storage Temperature (°C).\n",
    "    'Storage Temperature (°C)': np.random.uniform(20, 40, size=n_samples),\n",
    "    # Randomly choosing from the given options for Presence of Antioxidants.\n",
    "    'Presence of Antioxidants': np.random.choice(['No', 'Yes', 'Limited'], size=n_samples, replace=True),\n",
    "    # Randomly choosing from the given options for Packaging Material.\n",
    "    'Packaging Material': np.random.choice(['Glass', 'Plastic', 'Aluminum'], size=n_samples, replace=True),\n",
    "    # Randomly choosing from the given options for Manufacturing Method.\n",
    "    'Manufacturing Method': np.random.choice(['Hot process', 'Cold process', 'Microencapsulation'], size=n_samples, replace=True),\n",
    "})\n",
    "\n",
    "# Feature engineering - Creating new features from the available data.\n",
    "df['Viscosity_squared'] = df['Viscosity']**2\n",
    "df['pH_log'] = np.log10(df['pH'])\n",
    "df['Temp_preservative_interaction'] = df['Preservative Concentration (%)'] * df['Storage Temperature (°C)']\n",
    "\n",
    "del(n_samples) # We will delete this variable, as it will not be used anymore."
   ]
  },
  {
   "cell_type": "markdown",
   "id": "34905563",
   "metadata": {},
   "source": [
    "## 2.2. Creating the Labels:"
   ]
  },
  {
   "cell_type": "markdown",
   "id": "4cde8389",
   "metadata": {},
   "source": [
    "In a ML problem, labels refer to the outcomes or categories that the model is trained to predict. They are the target variable or the answer we want the ML algorithm to learn and predict based on input features. In this case, the labels will be \"Pass\" or \"Fail\" for the study outcome. The ML model will learn patterns from labeled examples during training and uses that knowledge to make predictions on new, unseen data."
   ]
  },
  {
   "cell_type": "code",
   "execution_count": 3,
   "id": "86bffaa3",
   "metadata": {},
   "outputs": [],
   "source": [
    "# Generating labels \"Pass\". Initially all the labels will be \"Pass\".\n",
    "df['Stability_Label'] = 'Pass'"
   ]
  },
  {
   "cell_type": "markdown",
   "id": "2ef70f6c",
   "metadata": {},
   "source": [
    "We will use pre-defined rules for failing conditions. Again, these are simulated situations:"
   ]
  },
  {
   "cell_type": "code",
   "execution_count": 4,
   "id": "95fcc51f",
   "metadata": {},
   "outputs": [],
   "source": [
    "# Assign 'Fail' label to rows where pH is less than 5 or Preservative Concentration is less than 0.3\n",
    "df.loc[(df['pH'] < 5) | (df['Preservative Concentration (%)'] < 0.3), 'Stability_Label'] = 'Fail'\n",
    "# Assign 'Fail' label to rows where Storage Temperature is greater than 35 and Packaging Material is 'Plastic'\n",
    "df.loc[(df['Storage Temperature (°C)'] > 35) & (df['Packaging Material'] == 'Plastic'), 'Stability_Label'] = 'Fail'\n",
    "# Assign 'Fail' label to rows where Active Ingredient Type is 'Oil-soluble' and Emulsifier Type is 'Ionic'\n",
    "df.loc[(df['Active Ingredient Type'] == 'Oil-soluble') & (df['Emulsifier Type'] == 'Ionic'), 'Stability_Label'] = 'Fail'"
   ]
  },
  {
   "cell_type": "markdown",
   "id": "bc370b97",
   "metadata": {},
   "source": [
    "__<font size = 6 ><span style=\"color: orange;\">3. Exploratory Data Analysis (EDA) and Data Visualization</span></font>__"
   ]
  },
  {
   "cell_type": "markdown",
   "id": "edc1d501",
   "metadata": {},
   "source": [
    "EDA lays the foundation for understanding your data, its characteristics, and its potential underlying patterns. It helps guide feature selection, model building, and interpretation of results.\n",
    "\n",
    "<font size = 3 ><span style=\"color: black;\"> __Given that the data in this project is artificially generated, the insights derived will be notably constrained. However,  for educational purposes, we will still delve into the discussion of some important tools.__</span></font> "
   ]
  },
  {
   "cell_type": "markdown",
   "id": "369c29cd",
   "metadata": {},
   "source": [
    "## 3.1. Understand Data Structure:"
   ]
  },
  {
   "cell_type": "markdown",
   "id": "504f05f7",
   "metadata": {},
   "source": [
    "### 3.1.1. Printing sample rows: \n",
    "\n",
    "Gives you a quick glimpse of the data format, variable types, and potential patterns.\n"
   ]
  },
  {
   "cell_type": "code",
   "execution_count": 5,
   "id": "42452f69",
   "metadata": {},
   "outputs": [
    {
     "data": {
      "text/html": [
       "<div>\n",
       "<style scoped>\n",
       "    .dataframe tbody tr th:only-of-type {\n",
       "        vertical-align: middle;\n",
       "    }\n",
       "\n",
       "    .dataframe tbody tr th {\n",
       "        vertical-align: top;\n",
       "    }\n",
       "\n",
       "    .dataframe thead th {\n",
       "        text-align: right;\n",
       "    }\n",
       "</style>\n",
       "<table border=\"1\" class=\"dataframe\">\n",
       "  <thead>\n",
       "    <tr style=\"text-align: right;\">\n",
       "      <th></th>\n",
       "      <th>Viscosity</th>\n",
       "      <th>pH</th>\n",
       "      <th>Preservative Concentration (%)</th>\n",
       "      <th>Active Ingredient Type</th>\n",
       "      <th>Emulsifier Type</th>\n",
       "      <th>Storage Temperature (°C)</th>\n",
       "      <th>Presence of Antioxidants</th>\n",
       "      <th>Packaging Material</th>\n",
       "      <th>Manufacturing Method</th>\n",
       "      <th>Viscosity_squared</th>\n",
       "      <th>pH_log</th>\n",
       "      <th>Temp_preservative_interaction</th>\n",
       "      <th>Stability_Label</th>\n",
       "    </tr>\n",
       "  </thead>\n",
       "  <tbody>\n",
       "    <tr>\n",
       "      <th>0</th>\n",
       "      <td>5712.363995</td>\n",
       "      <td>5.059525</td>\n",
       "      <td>0.732373</td>\n",
       "      <td>Amphiphilic</td>\n",
       "      <td>Zwitterionic</td>\n",
       "      <td>34.849505</td>\n",
       "      <td>Limited</td>\n",
       "      <td>Plastic</td>\n",
       "      <td>Cold process</td>\n",
       "      <td>3.263110e+07</td>\n",
       "      <td>0.704110</td>\n",
       "      <td>25.522832</td>\n",
       "      <td>Pass</td>\n",
       "    </tr>\n",
       "    <tr>\n",
       "      <th>1</th>\n",
       "      <td>9607.052852</td>\n",
       "      <td>5.980355</td>\n",
       "      <td>0.529813</td>\n",
       "      <td>Oil-soluble</td>\n",
       "      <td>Nonionic</td>\n",
       "      <td>24.015728</td>\n",
       "      <td>Yes</td>\n",
       "      <td>Glass</td>\n",
       "      <td>Hot process</td>\n",
       "      <td>9.229546e+07</td>\n",
       "      <td>0.776727</td>\n",
       "      <td>12.723854</td>\n",
       "      <td>Pass</td>\n",
       "    </tr>\n",
       "    <tr>\n",
       "      <th>2</th>\n",
       "      <td>4733.546242</td>\n",
       "      <td>5.810748</td>\n",
       "      <td>0.124164</td>\n",
       "      <td>Water-soluble</td>\n",
       "      <td>Zwitterionic</td>\n",
       "      <td>33.469836</td>\n",
       "      <td>Limited</td>\n",
       "      <td>Aluminum</td>\n",
       "      <td>Cold process</td>\n",
       "      <td>2.240646e+07</td>\n",
       "      <td>0.764232</td>\n",
       "      <td>4.155757</td>\n",
       "      <td>Fail</td>\n",
       "    </tr>\n",
       "    <tr>\n",
       "      <th>3</th>\n",
       "      <td>4764.119465</td>\n",
       "      <td>7.238762</td>\n",
       "      <td>0.239738</td>\n",
       "      <td>Water-soluble</td>\n",
       "      <td>Nonionic</td>\n",
       "      <td>29.410383</td>\n",
       "      <td>Limited</td>\n",
       "      <td>Glass</td>\n",
       "      <td>Cold process</td>\n",
       "      <td>2.269683e+07</td>\n",
       "      <td>0.859664</td>\n",
       "      <td>7.050781</td>\n",
       "      <td>Fail</td>\n",
       "    </tr>\n",
       "    <tr>\n",
       "      <th>4</th>\n",
       "      <td>5195.097212</td>\n",
       "      <td>4.648070</td>\n",
       "      <td>0.748535</td>\n",
       "      <td>Water-soluble</td>\n",
       "      <td>Ionic</td>\n",
       "      <td>27.536258</td>\n",
       "      <td>No</td>\n",
       "      <td>Glass</td>\n",
       "      <td>Microencapsulation</td>\n",
       "      <td>2.698904e+07</td>\n",
       "      <td>0.667273</td>\n",
       "      <td>20.611863</td>\n",
       "      <td>Fail</td>\n",
       "    </tr>\n",
       "    <tr>\n",
       "      <th>5</th>\n",
       "      <td>9466.076472</td>\n",
       "      <td>6.119003</td>\n",
       "      <td>0.465870</td>\n",
       "      <td>Water-soluble</td>\n",
       "      <td>Zwitterionic</td>\n",
       "      <td>30.562020</td>\n",
       "      <td>Yes</td>\n",
       "      <td>Aluminum</td>\n",
       "      <td>Microencapsulation</td>\n",
       "      <td>8.960660e+07</td>\n",
       "      <td>0.786681</td>\n",
       "      <td>14.237917</td>\n",
       "      <td>Pass</td>\n",
       "    </tr>\n",
       "    <tr>\n",
       "      <th>6</th>\n",
       "      <td>4546.867362</td>\n",
       "      <td>4.682495</td>\n",
       "      <td>0.397658</td>\n",
       "      <td>Water-soluble</td>\n",
       "      <td>Zwitterionic</td>\n",
       "      <td>24.342925</td>\n",
       "      <td>Limited</td>\n",
       "      <td>Plastic</td>\n",
       "      <td>Cold process</td>\n",
       "      <td>2.067400e+07</td>\n",
       "      <td>0.670477</td>\n",
       "      <td>9.680167</td>\n",
       "      <td>Fail</td>\n",
       "    </tr>\n",
       "    <tr>\n",
       "      <th>7</th>\n",
       "      <td>5903.135851</td>\n",
       "      <td>5.608198</td>\n",
       "      <td>0.552999</td>\n",
       "      <td>Amphiphilic</td>\n",
       "      <td>Ionic</td>\n",
       "      <td>24.374302</td>\n",
       "      <td>Limited</td>\n",
       "      <td>Plastic</td>\n",
       "      <td>Microencapsulation</td>\n",
       "      <td>3.484701e+07</td>\n",
       "      <td>0.748823</td>\n",
       "      <td>13.478964</td>\n",
       "      <td>Pass</td>\n",
       "    </tr>\n",
       "    <tr>\n",
       "      <th>8</th>\n",
       "      <td>8197.063419</td>\n",
       "      <td>7.445056</td>\n",
       "      <td>0.979693</td>\n",
       "      <td>Water-soluble</td>\n",
       "      <td>Zwitterionic</td>\n",
       "      <td>21.194211</td>\n",
       "      <td>No</td>\n",
       "      <td>Aluminum</td>\n",
       "      <td>Cold process</td>\n",
       "      <td>6.719185e+07</td>\n",
       "      <td>0.871868</td>\n",
       "      <td>20.763830</td>\n",
       "      <td>Pass</td>\n",
       "    </tr>\n",
       "    <tr>\n",
       "      <th>9</th>\n",
       "      <td>6609.131812</td>\n",
       "      <td>4.430221</td>\n",
       "      <td>0.289657</td>\n",
       "      <td>Water-soluble</td>\n",
       "      <td>Ionic</td>\n",
       "      <td>30.241134</td>\n",
       "      <td>Yes</td>\n",
       "      <td>Plastic</td>\n",
       "      <td>Hot process</td>\n",
       "      <td>4.368062e+07</td>\n",
       "      <td>0.646425</td>\n",
       "      <td>8.759563</td>\n",
       "      <td>Fail</td>\n",
       "    </tr>\n",
       "  </tbody>\n",
       "</table>\n",
       "</div>"
      ],
      "text/plain": [
       "     Viscosity        pH  Preservative Concentration (%)  \\\n",
       "0  5712.363995  5.059525                        0.732373   \n",
       "1  9607.052852  5.980355                        0.529813   \n",
       "2  4733.546242  5.810748                        0.124164   \n",
       "3  4764.119465  7.238762                        0.239738   \n",
       "4  5195.097212  4.648070                        0.748535   \n",
       "5  9466.076472  6.119003                        0.465870   \n",
       "6  4546.867362  4.682495                        0.397658   \n",
       "7  5903.135851  5.608198                        0.552999   \n",
       "8  8197.063419  7.445056                        0.979693   \n",
       "9  6609.131812  4.430221                        0.289657   \n",
       "\n",
       "  Active Ingredient Type Emulsifier Type  Storage Temperature (°C)  \\\n",
       "0            Amphiphilic    Zwitterionic                 34.849505   \n",
       "1            Oil-soluble        Nonionic                 24.015728   \n",
       "2          Water-soluble    Zwitterionic                 33.469836   \n",
       "3          Water-soluble        Nonionic                 29.410383   \n",
       "4          Water-soluble           Ionic                 27.536258   \n",
       "5          Water-soluble    Zwitterionic                 30.562020   \n",
       "6          Water-soluble    Zwitterionic                 24.342925   \n",
       "7            Amphiphilic           Ionic                 24.374302   \n",
       "8          Water-soluble    Zwitterionic                 21.194211   \n",
       "9          Water-soluble           Ionic                 30.241134   \n",
       "\n",
       "  Presence of Antioxidants Packaging Material Manufacturing Method  \\\n",
       "0                  Limited            Plastic         Cold process   \n",
       "1                      Yes              Glass          Hot process   \n",
       "2                  Limited           Aluminum         Cold process   \n",
       "3                  Limited              Glass         Cold process   \n",
       "4                       No              Glass   Microencapsulation   \n",
       "5                      Yes           Aluminum   Microencapsulation   \n",
       "6                  Limited            Plastic         Cold process   \n",
       "7                  Limited            Plastic   Microencapsulation   \n",
       "8                       No           Aluminum         Cold process   \n",
       "9                      Yes            Plastic          Hot process   \n",
       "\n",
       "   Viscosity_squared    pH_log  Temp_preservative_interaction Stability_Label  \n",
       "0       3.263110e+07  0.704110                      25.522832            Pass  \n",
       "1       9.229546e+07  0.776727                      12.723854            Pass  \n",
       "2       2.240646e+07  0.764232                       4.155757            Fail  \n",
       "3       2.269683e+07  0.859664                       7.050781            Fail  \n",
       "4       2.698904e+07  0.667273                      20.611863            Fail  \n",
       "5       8.960660e+07  0.786681                      14.237917            Pass  \n",
       "6       2.067400e+07  0.670477                       9.680167            Fail  \n",
       "7       3.484701e+07  0.748823                      13.478964            Pass  \n",
       "8       6.719185e+07  0.871868                      20.763830            Pass  \n",
       "9       4.368062e+07  0.646425                       8.759563            Fail  "
      ]
     },
     "execution_count": 5,
     "metadata": {},
     "output_type": "execute_result"
    }
   ],
   "source": [
    "df.head(10) # df.head(n) shows the firs n elements in our dataframe."
   ]
  },
  {
   "cell_type": "markdown",
   "id": "ca2e14df",
   "metadata": {},
   "source": [
    "### 3.1.2. Checking data types: \n",
    "\n",
    "Ensures you're using appropriate analysis methods for each variable type (numerical vs. categorical)."
   ]
  },
  {
   "cell_type": "code",
   "execution_count": 6,
   "id": "fd8f7925",
   "metadata": {},
   "outputs": [
    {
     "name": "stdout",
     "output_type": "stream",
     "text": [
      "<class 'pandas.core.frame.DataFrame'>\n",
      "RangeIndex: 1000 entries, 0 to 999\n",
      "Data columns (total 13 columns):\n",
      " #   Column                          Non-Null Count  Dtype  \n",
      "---  ------                          --------------  -----  \n",
      " 0   Viscosity                       1000 non-null   float64\n",
      " 1   pH                              1000 non-null   float64\n",
      " 2   Preservative Concentration (%)  1000 non-null   float64\n",
      " 3   Active Ingredient Type          1000 non-null   object \n",
      " 4   Emulsifier Type                 1000 non-null   object \n",
      " 5   Storage Temperature (°C)        1000 non-null   float64\n",
      " 6   Presence of Antioxidants        1000 non-null   object \n",
      " 7   Packaging Material              1000 non-null   object \n",
      " 8   Manufacturing Method            1000 non-null   object \n",
      " 9   Viscosity_squared               1000 non-null   float64\n",
      " 10  pH_log                          1000 non-null   float64\n",
      " 11  Temp_preservative_interaction   1000 non-null   float64\n",
      " 12  Stability_Label                 1000 non-null   object \n",
      "dtypes: float64(7), object(6)\n",
      "memory usage: 101.7+ KB\n",
      "None\n"
     ]
    }
   ],
   "source": [
    "print(df.info())"
   ]
  },
  {
   "cell_type": "markdown",
   "id": "3bfe14c4",
   "metadata": {},
   "source": [
    "## 3.2. Explore Descriptive Statistics:\n",
    "\n",
    "- Numerical features: Quantifies central tendency (mean, median), spread (standard deviation), and potential skewness.\n",
    "- Categorical features: Provides insight into the distribution of categories and their relationship with stability."
   ]
  },
  {
   "cell_type": "code",
   "execution_count": 7,
   "id": "5eabe715",
   "metadata": {},
   "outputs": [
    {
     "data": {
      "text/html": [
       "<div>\n",
       "<style scoped>\n",
       "    .dataframe tbody tr th:only-of-type {\n",
       "        vertical-align: middle;\n",
       "    }\n",
       "\n",
       "    .dataframe tbody tr th {\n",
       "        vertical-align: top;\n",
       "    }\n",
       "\n",
       "    .dataframe thead th {\n",
       "        text-align: right;\n",
       "    }\n",
       "</style>\n",
       "<table border=\"1\" class=\"dataframe\">\n",
       "  <thead>\n",
       "    <tr style=\"text-align: right;\">\n",
       "      <th></th>\n",
       "      <th>Viscosity</th>\n",
       "      <th>pH</th>\n",
       "      <th>Preservative Concentration (%)</th>\n",
       "      <th>Storage Temperature (°C)</th>\n",
       "      <th>Viscosity_squared</th>\n",
       "      <th>pH_log</th>\n",
       "      <th>Temp_preservative_interaction</th>\n",
       "    </tr>\n",
       "  </thead>\n",
       "  <tbody>\n",
       "    <tr>\n",
       "      <th>count</th>\n",
       "      <td>1000.000000</td>\n",
       "      <td>1000.000000</td>\n",
       "      <td>1000.000000</td>\n",
       "      <td>1000.000000</td>\n",
       "      <td>1.000000e+03</td>\n",
       "      <td>1000.000000</td>\n",
       "      <td>1000.000000</td>\n",
       "    </tr>\n",
       "    <tr>\n",
       "      <th>mean</th>\n",
       "      <td>6510.559125</td>\n",
       "      <td>6.014092</td>\n",
       "      <td>0.563256</td>\n",
       "      <td>29.880408</td>\n",
       "      <td>4.666951e+07</td>\n",
       "      <td>0.771194</td>\n",
       "      <td>16.806366</td>\n",
       "    </tr>\n",
       "    <tr>\n",
       "      <th>std</th>\n",
       "      <td>2070.365034</td>\n",
       "      <td>1.133290</td>\n",
       "      <td>0.261881</td>\n",
       "      <td>5.854462</td>\n",
       "      <td>2.720296e+07</td>\n",
       "      <td>0.084085</td>\n",
       "      <td>8.564041</td>\n",
       "    </tr>\n",
       "    <tr>\n",
       "      <th>min</th>\n",
       "      <td>3002.849104</td>\n",
       "      <td>4.000994</td>\n",
       "      <td>0.100160</td>\n",
       "      <td>20.016427</td>\n",
       "      <td>9.017103e+06</td>\n",
       "      <td>0.602168</td>\n",
       "      <td>2.420341</td>\n",
       "    </tr>\n",
       "    <tr>\n",
       "      <th>25%</th>\n",
       "      <td>4682.351154</td>\n",
       "      <td>4.994049</td>\n",
       "      <td>0.329756</td>\n",
       "      <td>24.875841</td>\n",
       "      <td>2.192441e+07</td>\n",
       "      <td>0.698453</td>\n",
       "      <td>9.553592</td>\n",
       "    </tr>\n",
       "    <tr>\n",
       "      <th>50%</th>\n",
       "      <td>6593.198055</td>\n",
       "      <td>6.001340</td>\n",
       "      <td>0.572959</td>\n",
       "      <td>29.763473</td>\n",
       "      <td>4.347027e+07</td>\n",
       "      <td>0.778248</td>\n",
       "      <td>16.363206</td>\n",
       "    </tr>\n",
       "    <tr>\n",
       "      <th>75%</th>\n",
       "      <td>8291.218617</td>\n",
       "      <td>7.030277</td>\n",
       "      <td>0.793519</td>\n",
       "      <td>35.059318</td>\n",
       "      <td>6.874431e+07</td>\n",
       "      <td>0.846972</td>\n",
       "      <td>23.121498</td>\n",
       "    </tr>\n",
       "    <tr>\n",
       "      <th>max</th>\n",
       "      <td>9984.133454</td>\n",
       "      <td>7.997975</td>\n",
       "      <td>0.996032</td>\n",
       "      <td>39.983128</td>\n",
       "      <td>9.968292e+07</td>\n",
       "      <td>0.902980</td>\n",
       "      <td>38.105906</td>\n",
       "    </tr>\n",
       "  </tbody>\n",
       "</table>\n",
       "</div>"
      ],
      "text/plain": [
       "         Viscosity           pH  Preservative Concentration (%)  \\\n",
       "count  1000.000000  1000.000000                     1000.000000   \n",
       "mean   6510.559125     6.014092                        0.563256   \n",
       "std    2070.365034     1.133290                        0.261881   \n",
       "min    3002.849104     4.000994                        0.100160   \n",
       "25%    4682.351154     4.994049                        0.329756   \n",
       "50%    6593.198055     6.001340                        0.572959   \n",
       "75%    8291.218617     7.030277                        0.793519   \n",
       "max    9984.133454     7.997975                        0.996032   \n",
       "\n",
       "       Storage Temperature (°C)  Viscosity_squared       pH_log  \\\n",
       "count               1000.000000       1.000000e+03  1000.000000   \n",
       "mean                  29.880408       4.666951e+07     0.771194   \n",
       "std                    5.854462       2.720296e+07     0.084085   \n",
       "min                   20.016427       9.017103e+06     0.602168   \n",
       "25%                   24.875841       2.192441e+07     0.698453   \n",
       "50%                   29.763473       4.347027e+07     0.778248   \n",
       "75%                   35.059318       6.874431e+07     0.846972   \n",
       "max                   39.983128       9.968292e+07     0.902980   \n",
       "\n",
       "       Temp_preservative_interaction  \n",
       "count                    1000.000000  \n",
       "mean                       16.806366  \n",
       "std                         8.564041  \n",
       "min                         2.420341  \n",
       "25%                         9.553592  \n",
       "50%                        16.363206  \n",
       "75%                        23.121498  \n",
       "max                        38.105906  "
      ]
     },
     "execution_count": 7,
     "metadata": {},
     "output_type": "execute_result"
    }
   ],
   "source": [
    "df.describe() # Numerical features."
   ]
  },
  {
   "cell_type": "code",
   "execution_count": 8,
   "id": "faaa05bb",
   "metadata": {},
   "outputs": [
    {
     "data": {
      "text/html": [
       "<div>\n",
       "<style scoped>\n",
       "    .dataframe tbody tr th:only-of-type {\n",
       "        vertical-align: middle;\n",
       "    }\n",
       "\n",
       "    .dataframe tbody tr th {\n",
       "        vertical-align: top;\n",
       "    }\n",
       "\n",
       "    .dataframe thead th {\n",
       "        text-align: right;\n",
       "    }\n",
       "</style>\n",
       "<table border=\"1\" class=\"dataframe\">\n",
       "  <thead>\n",
       "    <tr style=\"text-align: right;\">\n",
       "      <th></th>\n",
       "      <th>Active Ingredient Type</th>\n",
       "      <th>Emulsifier Type</th>\n",
       "      <th>Presence of Antioxidants</th>\n",
       "      <th>Packaging Material</th>\n",
       "      <th>Manufacturing Method</th>\n",
       "      <th>Stability_Label</th>\n",
       "    </tr>\n",
       "  </thead>\n",
       "  <tbody>\n",
       "    <tr>\n",
       "      <th>count</th>\n",
       "      <td>1000</td>\n",
       "      <td>1000</td>\n",
       "      <td>1000</td>\n",
       "      <td>1000</td>\n",
       "      <td>1000</td>\n",
       "      <td>1000</td>\n",
       "    </tr>\n",
       "    <tr>\n",
       "      <th>unique</th>\n",
       "      <td>3</td>\n",
       "      <td>3</td>\n",
       "      <td>3</td>\n",
       "      <td>3</td>\n",
       "      <td>3</td>\n",
       "      <td>2</td>\n",
       "    </tr>\n",
       "    <tr>\n",
       "      <th>top</th>\n",
       "      <td>Water-soluble</td>\n",
       "      <td>Nonionic</td>\n",
       "      <td>No</td>\n",
       "      <td>Glass</td>\n",
       "      <td>Cold process</td>\n",
       "      <td>Fail</td>\n",
       "    </tr>\n",
       "    <tr>\n",
       "      <th>freq</th>\n",
       "      <td>342</td>\n",
       "      <td>346</td>\n",
       "      <td>344</td>\n",
       "      <td>345</td>\n",
       "      <td>350</td>\n",
       "      <td>528</td>\n",
       "    </tr>\n",
       "  </tbody>\n",
       "</table>\n",
       "</div>"
      ],
      "text/plain": [
       "       Active Ingredient Type Emulsifier Type Presence of Antioxidants  \\\n",
       "count                    1000            1000                     1000   \n",
       "unique                      3               3                        3   \n",
       "top             Water-soluble        Nonionic                       No   \n",
       "freq                      342             346                      344   \n",
       "\n",
       "       Packaging Material Manufacturing Method Stability_Label  \n",
       "count                1000                 1000            1000  \n",
       "unique                  3                    3               2  \n",
       "top                 Glass         Cold process            Fail  \n",
       "freq                  345                  350             528  "
      ]
     },
     "execution_count": 8,
     "metadata": {},
     "output_type": "execute_result"
    }
   ],
   "source": [
    "df.describe(include='object') # Categorical features."
   ]
  },
  {
   "cell_type": "markdown",
   "id": "4a66bd3c",
   "metadata": {},
   "source": [
    "## 3.3. Visualize Distributions:\n",
    "\n",
    "- Histograms: Reveals the shape and spread of each numerical variable's distribution. Helps identify potential outliers or multimodal distributions.\n",
    "- Box plots: Shows differences in central tendency and dispersion between stable and unstable groups for each variable."
   ]
  },
  {
   "cell_type": "code",
   "execution_count": 9,
   "id": "9a6f256b",
   "metadata": {},
   "outputs": [
    {
     "name": "stderr",
     "output_type": "stream",
     "text": [
      "C:\\Users\\casar\\anaconda3\\envs\\env-tf-gpu\\lib\\site-packages\\pandas\\plotting\\_matplotlib\\tools.py:331: MatplotlibDeprecationWarning: \n",
      "The is_first_col function was deprecated in Matplotlib 3.4 and will be removed two minor releases later. Use ax.get_subplotspec().is_first_col() instead.\n",
      "  if ax.is_first_col():\n"
     ]
    },
    {
     "data": {
      "image/png": "[encoded data removed]",
      "text/plain": [
       "<Figure size 720x720 with 9 Axes>"
      ]
     },
     "metadata": {
      "needs_background": "light"
     },
     "output_type": "display_data"
    }
   ],
   "source": [
    "# Histograms\n",
    "df.hist(figsize=(10, 10)) # Creating the histogram with a figure size of 10 x 10 inches.\n",
    "plt.show()"
   ]
  },
  {
   "cell_type": "code",
   "execution_count": 10,
   "id": "20153cda",
   "metadata": {},
   "outputs": [
    {
     "data": {
      "image/png": "[encoded data removed]",
      "text/plain": [
       "<Figure size 432x288 with 1 Axes>"
      ]
     },
     "metadata": {
      "needs_background": "light"
     },
     "output_type": "display_data"
    }
   ],
   "source": [
    "# Boxplots - Exmaple: Viscosity:\n",
    "sns.boxplot(x='Stability_Label', y='Viscosity', data=df)\n",
    "plt.show()"
   ]
  },
  {
   "cell_type": "markdown",
   "id": "3e79bf00",
   "metadata": {},
   "source": [
    "## 3.4. Investigate Relationships:\n",
    "\n",
    "### 3.4.1. Correlation matrix:\n",
    "\n",
    "The correlation matrix is a square table that summarizes the strength and direction of linear relationships between pairs of numerical variables in a dataset. Calculated using the df.corr() method in pandas.\n",
    "\n",
    "Each cell displays a correlation coefficient, typically Pearson's correlation coefficient (r), ranging from -1 to 1:\n",
    "- -1 indicates a perfect negative correlation: As one variable increases, the other decreases.\n",
    "- 0 indicates no linear correlation: The variables are independent.\n",
    "- 1 indicates a perfect positive correlation: Both variables increase or decrease together."
   ]
  },
  {
   "cell_type": "code",
   "execution_count": 11,
   "id": "6e811efa",
   "metadata": {},
   "outputs": [
    {
     "data": {
      "image/png": "[encoded data removed]",
      "text/plain": [
       "<Figure size 720x576 with 2 Axes>"
      ]
     },
     "metadata": {
      "needs_background": "light"
     },
     "output_type": "display_data"
    }
   ],
   "source": [
    "plt.figure(figsize=(10, 8))  # Set figure size to 10 inches wide and 8 inches tall.\n",
    "\n",
    "# Generating a heatmap:\n",
    "sns.heatmap(\n",
    "    df.corr(),  # Calculate and display the correlation matrix of the dataFrame.\n",
    "    annot=True,  # Display numerical correlation values within each cell.\n",
    "    cmap='coolwarm',  # Use a color palette ranging from blue (negative correlation) to red (positive correlation).\n",
    "    fmt='.2f',  # Formats correlation values to two decimal places.\n",
    ")\n",
    "\n",
    "# Display the generated heatmap.\n",
    "plt.show()"
   ]
  },
  {
   "cell_type": "markdown",
   "id": "863397fe",
   "metadata": {},
   "source": [
    "__Limitations:__\n",
    "\n",
    "- Linearity: Only captures linear relationships. It might miss non-linear associations (e.g., quadratic, exponential, or periodic).\n",
    "- Correlation vs. Causation: A high correlation doesn't imply causation. It might reflect external factors or coincidence.\n",
    "- Outliers: Sensitive to outliers, which can distort correlations.\n",
    "- Multicollinearity: Cannot distinguish between direct and indirect correlations in complex relationships.\n",
    "- Non-numerical Variables: Doesn't directly work with categorical variables.\n",
    "\n",
    "\n",
    "__Best Practices:__\n",
    "\n",
    "- Visualize data with scatter plots to confirm linear relationships before relying on correlation matrices.\n",
    "- Consider non-linear correlation measures for non-linear relationships.\n",
    "- Use domain knowledge to guide interpretation and avoid causal assumptions based solely on correlations.\n",
    "- Handle outliers appropriately to ensure reliable results.\n",
    "- Employ techniques like principal component analysis (PCA) to address multicollinearity.\n",
    "- Use appropriate methods for categorical variables, such as correlation ratios or chi-square tests."
   ]
  },
  {
   "cell_type": "markdown",
   "id": "a3392dce",
   "metadata": {},
   "source": [
    "### 3.4.2. Scatter plots: \n",
    "\n",
    "Allows closer inspection of specific relationships between individual features and stability, potentially revealing non-linear patterns."
   ]
  },
  {
   "cell_type": "code",
   "execution_count": 12,
   "id": "cb4b182d",
   "metadata": {},
   "outputs": [
    {
     "data": {
      "image/png": "[encoded data removed]",
      "text/plain": [
       "<Figure size 720x432 with 1 Axes>"
      ]
     },
     "metadata": {
      "needs_background": "light"
     },
     "output_type": "display_data"
    }
   ],
   "source": [
    "# Create a scatter plot with different colors for \"Pass\" and \"Fail\" labels\n",
    "plt.figure(figsize=(10, 6))\n",
    "\n",
    "# Scatter plot for \"Pass\" labels\n",
    "plt.scatter(df.loc[df['Stability_Label'] == 'Pass', 'pH'], df.loc[df['Stability_Label'] == 'Pass', 'Viscosity'], color='green', label='Pass')\n",
    "\n",
    "# Scatter plot for \"Fail\" labels\n",
    "plt.scatter(df.loc[df['Stability_Label'] == 'Fail', 'pH'], df.loc[df['Stability_Label'] == 'Fail', 'Viscosity'], color='red', label='Fail')\n",
    "\n",
    "# Set labels and title\n",
    "plt.xlabel('pH')\n",
    "plt.ylabel('Viscosity')\n",
    "plt.title('Scatter Plot of Viscosity vs. pH with Stability Labels')\n",
    "plt.legend()  # Show legend\n",
    "\n",
    "# Show the plot\n",
    "plt.show()"
   ]
  },
  {
   "cell_type": "markdown",
   "id": "0b745725",
   "metadata": {},
   "source": [
    "## 3.5. Analyze Categorical Features:\n",
    "\n",
    "### 3.5.1. Value counts: \n",
    "\n",
    "Understands the frequency of each category and identifies potential imbalances."
   ]
  },
  {
   "cell_type": "code",
   "execution_count": 13,
   "id": "09711c70",
   "metadata": {},
   "outputs": [
    {
     "name": "stdout",
     "output_type": "stream",
     "text": [
      "Glass       345\n",
      "Plastic     335\n",
      "Aluminum    320\n",
      "Name: Packaging Material, dtype: int64\n"
     ]
    }
   ],
   "source": [
    "print(df['Packaging Material'].value_counts()) # The value.counts() displays the frequency of each unique value in the specified column."
   ]
  },
  {
   "cell_type": "markdown",
   "id": "3c664abb",
   "metadata": {},
   "source": [
    "### 3.5.2. Bar plots: \n",
    "\n",
    "Visually compare the distribution of categorical features across stable and unstable groups, highlighting relevant associations."
   ]
  },
  {
   "cell_type": "code",
   "execution_count": 14,
   "id": "08da2341",
   "metadata": {},
   "outputs": [
    {
     "data": {
      "image/png": "[encoded data removed]",
      "text/plain": [
       "<Figure size 432x288 with 1 Axes>"
      ]
     },
     "metadata": {
      "needs_background": "light"
     },
     "output_type": "display_data"
    }
   ],
   "source": [
    "sns.countplot(x='Packaging Material', hue='Stability_Label', data=df)\n",
    "plt.show()"
   ]
  },
  {
   "cell_type": "markdown",
   "id": "11f756be",
   "metadata": {},
   "source": [
    "## 3.6. Visualize Class Distribution:\n",
    "\n",
    "- Pie chart: Provides a quick overview of the proportion of different classes in the dataset."
   ]
  },
  {
   "cell_type": "code",
   "execution_count": 15,
   "id": "1dea37d1",
   "metadata": {},
   "outputs": [
    {
     "data": {
      "image/png": "[encoded data removed]",
      "text/plain": [
       "<Figure size 432x288 with 1 Axes>"
      ]
     },
     "metadata": {},
     "output_type": "display_data"
    }
   ],
   "source": [
    "df['Stability_Label'].value_counts().plot.pie(autopct=\"%1.1f%%\") # Creating a pie chart directly from the value counts, and adding percentages within each pie slice.\n",
    "plt.show()"
   ]
  },
  {
   "cell_type": "markdown",
   "id": "0f9371a7",
   "metadata": {},
   "source": [
    "__<font size = 6 ><span style=\"color: orange;\">4. Categorical Encoding, Data Splitting and Feature Scaling</span></font>__\n",
    "\n",
    "The Categorical Encoding, Data Splitting and Feature Scaling are preprocessing steps for modeling the data to the feed the ML models.\n",
    "\n",
    "## 4.1. Categorical Encoding:\n",
    "\n",
    "- Converts categorical variables (e.g., \"Packaging Material\") into numerical representations for use in the ML models.\n",
    "- Techniques include:\n",
    "  - One-hot encoding\n",
    "  - Label encoding\n",
    "  - Ordinal encoding\n",
    "  \n",
    "We will use the __get_dummies__ function to perform __One-hot encoding__ on multiple categorical columns. One-hot encoding basically creates new binary (0 or 1) columns, where each new column represents one of the original categories.\n",
    "\n",
    "This technique is appropriate here because:\n",
    "- No inherent order: The categorical features don't have a natural ranking or hierarchy, making one-hot encoding suitable to avoid introducing unintended assumptions.\n",
    "- Multiple categories: Some features have multiple possible values (e.g., \"Active Ingredient Type\"), and one-hot encoding effectively captures these distinctions.\n",
    "\n",
    "Then, we will drop irrelevant columns to keep the dataframe focused and reduce potential noise."
   ]
  },
  {
   "cell_type": "code",
   "execution_count": 16,
   "id": "43c27c62",
   "metadata": {},
   "outputs": [],
   "source": [
    "# Encode the target variable (stability label) as numerical:\n",
    "df['Stability_Label_Num'] = df['Stability_Label'].map({'Pass': 1, 'Fail': 0})\n",
    "\n",
    "# Apply one-hot encoding to categorical features:\n",
    "df_encoded = pd.get_dummies(df, columns=['Active Ingredient Type',\n",
    "                                          'Emulsifier Type',\n",
    "                                          'Presence of Antioxidants',\n",
    "                                          'Packaging Material',\n",
    "                                          'Manufacturing Method']) \\\n",
    "                .drop(columns=['Viscosity', 'pH', 'Preservative Concentration (%)',\n",
    "                               'Storage Temperature (°C)', 'Viscosity_squared',\n",
    "                               'pH_log', 'Temp_preservative_interaction',\n",
    "                               'Stability_Label', 'Stability_Label_Num']) \\\n",
    "                .astype('int64')  # Ensure integer dtype for one-hot encoded columns\n",
    "\n",
    "# Remove original categorical columns from the main DataFrame:\n",
    "df = df.drop(columns=['Active Ingredient Type', 'Emulsifier Type',\n",
    "                      'Presence of Antioxidants', 'Packaging Material',\n",
    "                      'Manufacturing Method'])\n",
    "\n",
    "# Concatenate the encoded columns back to the main DataFrame:\n",
    "df = pd.concat([df, df_encoded], axis=1)"
   ]
  },
  {
   "cell_type": "markdown",
   "id": "40aff982",
   "metadata": {},
   "source": [
    "## 4.2. Data Splitting:\n",
    "\n",
    "The data splitting process is a crucial step in ML, and it involves dividing a dataset into different subsets for training and testing purposes. \n",
    "\n",
    "__Training Set:__\n",
    "\n",
    "- The training set is a portion of the dataset used to train the ML model. The model learns patterns, relationships, and features from this set. The larger the training set, the better the model can potentially learn the underlying patterns in the data.\n",
    "\n",
    "__Testing Set:__\n",
    "\n",
    "- The testing set is a separate portion of the dataset that is not used during the training phase. It serves as an independent evaluation to assess how well the model generalizes to new, unseen data. The goal is to evaluate the model's performance on data it has not encountered before.\n",
    "\n",
    "Randomization: It's essential to randomly shuffle the dataset before splitting to ensure that the distribution of classes or patterns is consistent across the training and testing sets. This helps prevent the model from learning patterns specific to the order of the data.\n",
    "\n",
    "Splitting Ratio: The ratio between the training and testing sets is a critical consideration. Common ratios include 70-30, 80-20, or 90-10, depending on the size of the dataset and the specific requirements of the problem."
   ]
  },
  {
   "cell_type": "code",
   "execution_count": 17,
   "id": "e284ff7e",
   "metadata": {},
   "outputs": [],
   "source": [
    "# Split data into training and test sets\n",
    "X_train, X_test, y_train, y_test = train_test_split(df.drop(columns=['Stability_Label', 'Stability_Label_Num'], axis=1), df['Stability_Label_Num'], test_size=0.2)"
   ]
  },
  {
   "cell_type": "markdown",
   "id": "2006bb36",
   "metadata": {},
   "source": [
    "## 4.3. Feature Scaling:\n",
    "\n",
    "Many ML algorithms are sensitive to the scale of the input features. Features with larger scales may have a disproportionate impact on the model, potentially overshadowing features with smaller scales. Feature scaling helps mitigate this issue.\n",
    "\n",
    "Feature scaling is a preprocessing technique in ML that involves transforming the numerical features of a dataset to a similar scale. The goal is to ensure that all features contribute equally to the model's performance and prevent certain features from dominating due to differences in their original scales.\n",
    "\n",
    "Feature scaling is typically applied after splitting the data into training and testing sets to avoid __data leakage__. It involves fitting the scaler (based on training data) and transforming both training and testing sets. Data leakage is a common issue in ML where information from the test set or unseen data unintentionally influences the training process, leading to overly optimistic model evaluations and poor generalization to new data. It can severely impact the reliability and effectiveness of machine learning models. "
   ]
  },
  {
   "cell_type": "code",
   "execution_count": 18,
   "id": "0a2f1953",
   "metadata": {},
   "outputs": [],
   "source": [
    "# Initialize the StandardScaler\n",
    "scaler = StandardScaler()\n",
    "\n",
    "# Fit the scaler on the training data and transform both the training and testing data\n",
    "\n",
    "# List of numerical features to scale\n",
    "numerical_features = ['Viscosity','pH', 'Preservative Concentration (%)','Storage Temperature (°C)', 'Viscosity_squared', 'pH_log', 'Temp_preservative_interaction']\n",
    "\n",
    "# Fit the scaler on the training data and transform both the training and testing data\n",
    "X_train_scaled = scaler.fit_transform(X_train[numerical_features])\n",
    "X_train[numerical_features] = X_train_scaled\n",
    "\n",
    "X_test_scaled = scaler.transform(X_test[numerical_features])\n",
    "X_test[numerical_features] = X_test_scaled"
   ]
  },
  {
   "cell_type": "markdown",
   "id": "549f9734",
   "metadata": {},
   "source": [
    "While numerical features are commonly scaled, categorical features might not require scaling in the same way. However, in certain situations, techniques like one-hot encoding can be applied to represent categorical variables as binary values, and the resulting features can be scaled if needed."
   ]
  },
  {
   "cell_type": "markdown",
   "id": "425d15b7",
   "metadata": {},
   "source": [
    "__<font size = 6 ><span style=\"color: orange;\">5. Machine Learning Models:</span></font>__\n",
    "\n",
    "We will use 4 different ML models to perform the task of classifying the formulas in \"Pass\" or \"Fail\" based on the formulas features.\n",
    "- __K-Nearest Neighbors (KNN)__\n",
    "- __Support Vector Machine (SVM)__\n",
    "- __Random Forest (RF)__\n",
    "- __Artificial Neural Network (ANN)__\n",
    "\n",
    "These models were chosen for their large applicability. Each model has its strengths and weaknesses, and the best choice depends on your specific data and goals. KNN and SVM are simpler to interpret, while Random Forest and ANN are more powerful but less transparent.\n",
    "\n",
    "For all models, we will calculate the following evaluation metrics:\n",
    "\n",
    "__Accuracy:__\n",
    "\n",
    "- Measures: The overall proportion of correct predictions made by the model.\n",
    "- Think of it as: The percentage of times the model got things right.\n",
    "- Formula: (True Positives + True Negatives) / Total Predictions\n",
    "\n",
    "__Precision:__\n",
    "\n",
    "- Measures: The model's ability to avoid false positives (predicting a positive when it's actually negative).\n",
    "- Think of it as: The accuracy of positive predictions.\n",
    "- Formula: True Positives / (True Positives + False Positives)\n",
    "\n",
    "__Recall:__\n",
    "\n",
    "- Measures: The model's ability to identify all true positives (predicting a positive when it's actually positive).\n",
    "- Think of it as: The sensitivity to correctly identifying positives.\n",
    "- Formula: True Positives / (True Positives + False Negatives)\n",
    "\n",
    "Key Points: Often, you'll consider these metrics together to make informed decisions about model performance. For example, high precision but low recall might indicate the model is too cautious in predicting positives, while high recall but low precision might mean it's predicting too many positives, even when some are wrong."
   ]
  },
  {
   "cell_type": "markdown",
   "id": "199af5d6",
   "metadata": {},
   "source": [
    "## 5.1. K-Nearest Neighbors (KNN):\n",
    "\n",
    "KNN is a simple and intuitive algorithm. Given a new data point, it looks at the 'k' nearest data points in the training set and classifies the new point based on the majority class among its neighbors. \n",
    "\n",
    "Example:\n",
    "<center>\n",
    "<img src=\"https://www.kdnuggets.com/wp-content/uploads/arya_knearest_neighbors_classification_3.jpg\" width=\"500\" /> <figcaption> Source of Image: https://www.kdnuggets.com/2022/04/nearest-neighbors-classification.html</figcaption>\n",
    "</center>\n",
    "<br>\n",
    "<br>\n",
    "The KNN algorithm stands out as one of the most straightforward classification algorithms. Despite its simplicity, it is capable of delivering good results.  \n",
    "\n",
    "Here, we will define k=5 and train the model. The choice of 'k' (number of neighbors) and the distance metric used are critical parameters that impact the model's performance. The final test accuracy on the unseen data shows the model's real-world performance."
   ]
  },
  {
   "cell_type": "code",
   "execution_count": 19,
   "id": "17deec10",
   "metadata": {},
   "outputs": [],
   "source": [
    "# KNN\n",
    "# Define KNN with K=5 (5 nearest neighbors)\n",
    "knn = KNeighborsClassifier(n_neighbors=5)\n",
    "\n",
    "# Train KNN on the training data\n",
    "knn.fit(X_train, y_train)\n",
    "\n",
    "# Predict compatibility for the test data\n",
    "predictions_knn_test = knn.predict(X_test)\n",
    "\n",
    "# Calculate evaluation  metrics for KNN (accuracy, precision, recall)\n",
    "knn_accuracy = accuracy_score(y_test, predictions_knn_test)\n",
    "knn_precision = precision_score(y_test, predictions_knn_test, average=\"micro\")\n",
    "knn_recall = recall_score(y_test, predictions_knn_test, average=\"micro\")"
   ]
  },
  {
   "cell_type": "markdown",
   "id": "c0be064f",
   "metadata": {},
   "source": [
    "## 5.2. Support Vector Machine (SVM):\n",
    "\n",
    "SVM aims to find the hyperplane that best separates data points of different classes. It seeks to maximize the margin, which is the distance between the hyperplane and the nearest data points of each class.\n",
    "\n",
    "SVM is effective in high-dimensional spaces and is particularly powerful when there is a clear margin of separation between classes. It can use different kernel functions to handle non-linear relationships.\n",
    "\n",
    "Example:\n",
    "\n",
    "<center>\n",
    "<img src=\"https://miro.medium.com/v2/resize:fit:581/1*-4FOSXGyV6CSUOrOPEFc9g.png\" width=\"400\" /> <figcaption> Source of Image: https://www.analyticsvidhya.com/blog/2021/10/support-vector-machinessvm-a-complete-guide-for-beginners/ </figcaption> \n",
    "</center>\n",
    "<br>\n",
    "<br>\n",
    "\n",
    "We will use a linear kernel and tune the regularization parameter (C) for optimal performance. \n",
    "\n",
    "__Kernel:__\n",
    "\n",
    "- Imagine: It's like a special lens that transforms your data to make it easier for SVM to draw clear decision boundaries.\n",
    "- Purpose: It projects data into higher-dimensional spaces, allowing SVM to capture complex relationships that might be hidden in the original data.\n",
    "- Types: Common kernels include linear, polynomial, Gaussian RBF (Radial Basis Function), and sigmoid. Each kernel has its own way of transforming data.\n",
    "- Choice: The best kernel depends on the nature of your data and problem. Experimentation is often needed to find the most suitable one.\n",
    "\n",
    "__Regularization Parameter C:__\n",
    "\n",
    "- Balance: It controls the balance between fitting the training data tightly and generalizing to unseen data.\n",
    "- Small C: Encourages wider margins around decision boundaries, potentially reducing overfitting (memorizing the training data too much).\n",
    "- Large C: Prioritizes fitting the training data closely, potentially risking overfitting.\n",
    "- Tuning: It's crucial to tune C to achieve optimal model performance."
   ]
  },
  {
   "cell_type": "code",
   "execution_count": 20,
   "id": "7d682d72",
   "metadata": {},
   "outputs": [],
   "source": [
    "# SVM\n",
    "# Define SVM with a linear kernel\n",
    "svm = SVC(kernel='linear', C=1.0)\n",
    "\n",
    "# Train SVM on the training data\n",
    "svm.fit(X_train, y_train)\n",
    "\n",
    "# Predict compatibility for the testidation data\n",
    "predictions_svm_test = svm.predict(X_test)\n",
    "\n",
    "# Calculate evaluation  metrics for SVM\n",
    "svm_accuracy = accuracy_score(y_test, predictions_svm_test)\n",
    "svm_precision = precision_score(y_test, predictions_svm_test, average=\"micro\")\n",
    "svm_recall = recall_score(y_test, predictions_svm_test, average=\"micro\")"
   ]
  },
  {
   "cell_type": "markdown",
   "id": "0bef64af",
   "metadata": {},
   "source": [
    "## 5.3. Random Forest (RF):\n",
    "\n",
    "Random Forest is a very popular ML algorithm that is based on another popular algorithm, called __Decision Trees (DT)__. A RF is an group of DTs. A DT is a popular supervised ML algorithm used for both classification and regression tasks, and it mimics the structure of a tree. The algorithm of the DT constructs its model in the form of a tree, incorporating decision nodes and leaf nodes. Essentially, a DT entails a sequence of consecutive decisions aimed at arriving at a particular outcome.\n",
    "\n",
    "Example:\n",
    "\n",
    "<center>\n",
    "<img src=\"https://cdn.analyticsvidhya.com/wp-content/uploads/2020/05/rfc_vs_dt11.png\" width=\"500\" /> <figcaption> Source of Image: https://www.analyticsvidhya.com/blog/2020/05/decision-tree-vs-random-forest-algorithm/#What_Are_Decision_Trees? </figcaption> \n",
    "</center>\n",
    "<br>\n",
    "<br>\n",
    "\n",
    "The RF algorithm builds multiple decision trees during training and merges them to get a more accurate and stable prediction. Each tree in the forest is trained on a random subset of the data. Imagine a group of movie critics discussing your film, each offering their own review based on experience. Random Forest combines these diverse opinions, taking the majority view as the overall prediction. \n",
    "\n",
    "Example:\n",
    "\n",
    "<center>\n",
    "<img src=\"https://cdn.analyticsvidhya.com/wp-content/uploads/2020/02/rfc_vs_dt1.png\" width=\"500\" /><figcaption> Source of Image: https://www.analyticsvidhya.com/blog/2020/05/decision-tree-vs-random-forest-algorithm/#What_Are_Decision_Trees? </figcaption> \n",
    "</center>\n",
    "<br>\n",
    "<br>\n",
    "\n"
   ]
  },
  {
   "cell_type": "code",
   "execution_count": 21,
   "id": "cf99efac",
   "metadata": {},
   "outputs": [],
   "source": [
    "# RF\n",
    "# Define Random Forest with 100 trees\n",
    "rf = RandomForestClassifier(n_estimators=100)\n",
    "\n",
    "# Train Random Forest on the training data\n",
    "rf.fit(X_train, y_train)\n",
    "\n",
    "# Predict compatibility for the testidation data\n",
    "predictions_rf_test = rf.predict(X_test)\n",
    "\n",
    "# Calculate evaluation  metrics for Random Forest\n",
    "rf_accuracy = accuracy_score(y_test, predictions_rf_test)\n",
    "rf_precision = precision_score(y_test, predictions_rf_test, average=\"micro\")\n",
    "rf_recall = recall_score(y_test, predictions_rf_test, average=\"micro\")"
   ]
  },
  {
   "cell_type": "markdown",
   "id": "542d06bb",
   "metadata": {},
   "source": [
    "## 5.4. Artificial Neural Network (ANN):\n",
    "\n",
    "Artificial Neural Networks (ANNs) are a class of ML models inspired by the structure and functioning of the human brain. An ANN is composed of layers of interconnected nodes, known as neurons. These layers are typically divided into three types:\n",
    "- Input Layer: Neurons that receive the initial features or input data.\n",
    "- Hidden Layers: Intermediate layers between the input and output layers. Each neuron in a hidden layer processes information from the neurons in the preceding layer.\n",
    "- Output Layer: Neurons that produce the final output or prediction.\n",
    "\n",
    "Neurons in one layer are connected to neurons in the next layer through weighted connections. Each connection has an associated weight, representing the strength of the connection. During training, these weights are adjusted to optimize the network's performance.\n",
    "\n",
    "<center>\n",
    "<img src=\"https://www.researchgate.net/publication/352338692/figure/fig12/AS:1037132248403970@1624283005647/General-scheme-of-an-artificial-neural-network-ANN.png\" width=\"400\" /><figcaption> Source of Image: Cárdenas, L.L., Mezher, A.M., Bautista, P.A.B., León, J.P.A. and Igartua, M.A., 2021. A multimetric predictive ANN-based routing protocol for vehicular ad hoc networks. IEEE access, 9, pp.86037-86053. </figcaption> \n",
    "</center>\n",
    "<br>\n",
    "<br>\n",
    "\n",
    "Each neuron has an activation function that determines its output based on the weighted sum of its inputs. Common activation functions include the sigmoid, hyperbolic tangent (tanh), and rectified linear unit (ReLU).\n",
    "\n",
    "<center>\n",
    "<img src=\"https://www.researchgate.net/publication/341310767/figure/fig7/AS:890211844255749@1589254451431/Common-activation-functions-in-artificial-neural-networks-NNs-that-introduce.ppm\" width=\"500\" ><figcaption> Source of Image: https://www.researchgate.net/publication/341310767/figure/fig7/AS:890211844255749@1589254451431/Common-activation-functions-in-artificial-neural-networks-NNs-that-introduce.ppm </figcaption>\n",
    "</center>\n",
    "<br>\n",
    "<br>\n",
    "\n",
    "Forward Propagation: During the forward propagation phase, input data is fed into the network through the input layer. The information passes through the hidden layers, and the final output is produced by the neurons in the output layer.\n",
    "\n",
    "Exmaple - Digit Recognition:\n",
    "<center>\n",
    "<img src=\"https://media.giphy.com/media/v1.Y2lkPTc5MGI3NjExYjk3YzRiMzNkYzhkYjk3N2M4MGY4M2ZjNzY2ZDRmYTgyZDQzZmM3NyZlcD12MV9pbnRlcm5hbF9naWZzX2dpZklkJmN0PWc/JLAkBDwX5W3tON7sQZ/giphy.gif\" width=\"600\" height=\"600\" /><figcaption> Source of Image: https://www.youtube.com/watch?v=Ilg3gGewQ5U </figcaption> \n",
    "</center>\n",
    "<br>\n",
    "<br>\n",
    "\n",
    "A loss function measures the difference between the predicted output and the actual target values. The goal during training is to minimize this loss. Backpropagation is the process of adjusting the weights in the network to reduce the loss. It involves computing the gradient of the loss with respect to the weights and updating the weights using optimization algorithms like gradient descent. The network undergoes multiple iterations of forward propagation, loss computation, and backpropagation to learn the patterns and relationships in the training data. This process continues until the model achieves satisfactory performance.\n",
    "\n",
    "Exmaple - Digit Recognition:\n",
    "<center>\n",
    "<img src=\"https://media.giphy.com/media/v1.Y2lkPTc5MGI3NjExNzk5YzQ0MTMwYjA0ZjY2Y2IzNTJiNmMzMWYxMDg3MmI5OGUzZmI3OSZlcD12MV9pbnRlcm5hbF9naWZzX2dpZklkJmN0PWc/P25n246qErDIhfrdtA/giphy.gif\" width=\"600\" height=\"600\" /> <figcaption> Source of Image: https://www.youtube.com/watch?v=Ilg3gGewQ5U </figcaption> \n",
    "</center>\n",
    "<br>\n",
    "<br>\n",
    "\n",
    "ANNs have various hyperparameters, including the number of layers, the number of neurons in each layer, the choice of activation functions, and the learning rate during training. Tuning these hyperparameters is crucial for achieving optimal performance."
   ]
  },
  {
   "cell_type": "code",
   "execution_count": 22,
   "id": "aaf45ff9",
   "metadata": {},
   "outputs": [
    {
     "name": "stdout",
     "output_type": "stream",
     "text": [
      "Epoch 1/10\n",
      "25/25 [==============================] - 1s 3ms/step - loss: 1.0119 - accuracy: 0.6575\n",
      "Epoch 2/10\n",
      "25/25 [==============================] - 0s 3ms/step - loss: 0.5007 - accuracy: 0.7775\n",
      "Epoch 3/10\n",
      "25/25 [==============================] - 0s 3ms/step - loss: 0.4160 - accuracy: 0.8100\n",
      "Epoch 4/10\n",
      "25/25 [==============================] - 0s 3ms/step - loss: 0.3649 - accuracy: 0.8338\n",
      "Epoch 5/10\n",
      "25/25 [==============================] - 0s 3ms/step - loss: 0.3251 - accuracy: 0.8537\n",
      "Epoch 6/10\n",
      "25/25 [==============================] - 0s 3ms/step - loss: 0.2891 - accuracy: 0.8750\n",
      "Epoch 7/10\n",
      "25/25 [==============================] - 0s 4ms/step - loss: 0.2588 - accuracy: 0.9000\n",
      "Epoch 8/10\n",
      "25/25 [==============================] - 0s 3ms/step - loss: 0.2338 - accuracy: 0.9087\n",
      "Epoch 9/10\n",
      "25/25 [==============================] - 0s 4ms/step - loss: 0.2083 - accuracy: 0.9175\n",
      "Epoch 10/10\n",
      "25/25 [==============================] - 0s 3ms/step - loss: 0.1899 - accuracy: 0.9312\n"
     ]
    }
   ],
   "source": [
    "# MLP\n",
    "# Define a simple ANN with 2 hidden layers\n",
    "model = Sequential()\n",
    "model.add(Dense(128, activation=\"relu\", input_shape=(X_train.shape[1],)))\n",
    "model.add(Dense(64, activation=\"relu\"))\n",
    "model.add(Dense(5, activation=\"softmax\"))\n",
    "\n",
    "# Compile and train the ANN\n",
    "model.compile(loss=\"sparse_categorical_crossentropy\", optimizer=\"adam\", metrics=[\"accuracy\"])\n",
    "model.fit(X_train, y_train, epochs=10)\n",
    "\n",
    "# Predict compatibility for the testidation data\n",
    "predictions_ann_test = model.predict(X_test).argmax(axis=1)\n",
    "\n",
    "# Calculate evaluation  metrics for ANN\n",
    "ann_accuracy = accuracy_score(y_test, predictions_ann_test)\n",
    "ann_precision = precision_score(y_test, predictions_ann_test, average=\"micro\")\n",
    "ann_recall = recall_score(y_test, predictions_ann_test, average=\"micro\")"
   ]
  },
  {
   "cell_type": "markdown",
   "id": "c4cca6ad",
   "metadata": {},
   "source": [
    "__<font size = 6 ><span style=\"color: orange;\">6. Results and Conclusion:</span></font>__\n",
    "\n",
    "Now we can compare the performance of the 4 different ML models based on the established evaluation metrics.\n",
    "\n",
    "Lets start by creating a dataframe with the results and highlighting the one with the best __Accuracy__."
   ]
  },
  {
   "cell_type": "code",
   "execution_count": 23,
   "id": "41327d88",
   "metadata": {},
   "outputs": [
    {
     "data": {
      "text/html": [
       "<style  type=\"text/css\" >\n",
       "#T_ea6c5def_a427_11ee_b6ac_5ccd5bbd5b0erow2_col1{\n",
       "            background-color:  green;\n",
       "        }</style><table id=\"T_ea6c5def_a427_11ee_b6ac_5ccd5bbd5b0e\" ><thead>    <tr>        <th class=\"blank level0\" ></th>        <th class=\"col_heading level0 col0\" >Model</th>        <th class=\"col_heading level0 col1\" >Accuracy</th>        <th class=\"col_heading level0 col2\" >Precision</th>        <th class=\"col_heading level0 col3\" >Recall</th>    </tr></thead><tbody>\n",
       "                <tr>\n",
       "                        <th id=\"T_ea6c5def_a427_11ee_b6ac_5ccd5bbd5b0elevel0_row0\" class=\"row_heading level0 row0\" >0</th>\n",
       "                        <td id=\"T_ea6c5def_a427_11ee_b6ac_5ccd5bbd5b0erow0_col0\" class=\"data row0 col0\" >KNN</td>\n",
       "                        <td id=\"T_ea6c5def_a427_11ee_b6ac_5ccd5bbd5b0erow0_col1\" class=\"data row0 col1\" >0.895000</td>\n",
       "                        <td id=\"T_ea6c5def_a427_11ee_b6ac_5ccd5bbd5b0erow0_col2\" class=\"data row0 col2\" >0.895000</td>\n",
       "                        <td id=\"T_ea6c5def_a427_11ee_b6ac_5ccd5bbd5b0erow0_col3\" class=\"data row0 col3\" >0.895000</td>\n",
       "            </tr>\n",
       "            <tr>\n",
       "                        <th id=\"T_ea6c5def_a427_11ee_b6ac_5ccd5bbd5b0elevel0_row1\" class=\"row_heading level0 row1\" >1</th>\n",
       "                        <td id=\"T_ea6c5def_a427_11ee_b6ac_5ccd5bbd5b0erow1_col0\" class=\"data row1 col0\" >SVM</td>\n",
       "                        <td id=\"T_ea6c5def_a427_11ee_b6ac_5ccd5bbd5b0erow1_col1\" class=\"data row1 col1\" >0.870000</td>\n",
       "                        <td id=\"T_ea6c5def_a427_11ee_b6ac_5ccd5bbd5b0erow1_col2\" class=\"data row1 col2\" >0.870000</td>\n",
       "                        <td id=\"T_ea6c5def_a427_11ee_b6ac_5ccd5bbd5b0erow1_col3\" class=\"data row1 col3\" >0.870000</td>\n",
       "            </tr>\n",
       "            <tr>\n",
       "                        <th id=\"T_ea6c5def_a427_11ee_b6ac_5ccd5bbd5b0elevel0_row2\" class=\"row_heading level0 row2\" >2</th>\n",
       "                        <td id=\"T_ea6c5def_a427_11ee_b6ac_5ccd5bbd5b0erow2_col0\" class=\"data row2 col0\" >Random Forest</td>\n",
       "                        <td id=\"T_ea6c5def_a427_11ee_b6ac_5ccd5bbd5b0erow2_col1\" class=\"data row2 col1\" >0.980000</td>\n",
       "                        <td id=\"T_ea6c5def_a427_11ee_b6ac_5ccd5bbd5b0erow2_col2\" class=\"data row2 col2\" >0.980000</td>\n",
       "                        <td id=\"T_ea6c5def_a427_11ee_b6ac_5ccd5bbd5b0erow2_col3\" class=\"data row2 col3\" >0.980000</td>\n",
       "            </tr>\n",
       "            <tr>\n",
       "                        <th id=\"T_ea6c5def_a427_11ee_b6ac_5ccd5bbd5b0elevel0_row3\" class=\"row_heading level0 row3\" >3</th>\n",
       "                        <td id=\"T_ea6c5def_a427_11ee_b6ac_5ccd5bbd5b0erow3_col0\" class=\"data row3 col0\" >ANN</td>\n",
       "                        <td id=\"T_ea6c5def_a427_11ee_b6ac_5ccd5bbd5b0erow3_col1\" class=\"data row3 col1\" >0.930000</td>\n",
       "                        <td id=\"T_ea6c5def_a427_11ee_b6ac_5ccd5bbd5b0erow3_col2\" class=\"data row3 col2\" >0.930000</td>\n",
       "                        <td id=\"T_ea6c5def_a427_11ee_b6ac_5ccd5bbd5b0erow3_col3\" class=\"data row3 col3\" >0.930000</td>\n",
       "            </tr>\n",
       "    </tbody></table>"
      ],
      "text/plain": [
       "<pandas.io.formats.style.Styler at 0x27b1b1c9250>"
      ]
     },
     "metadata": {},
     "output_type": "display_data"
    }
   ],
   "source": [
    "\n",
    "# Create a DataFrame to organize results\n",
    "results_df = pd.DataFrame({\n",
    "    \"Model\": [\"KNN\", \"SVM\", \"Random Forest\", \"ANN\"],\n",
    "    \"Accuracy\": [knn_accuracy, svm_accuracy, rf_accuracy, ann_accuracy],\n",
    "    \"Precision\": [knn_precision, svm_precision, rf_precision, ann_precision],\n",
    "    \"Recall\": [knn_recall, svm_recall, rf_recall, ann_recall]\n",
    "})\n",
    "\n",
    "# Highlight the best accuracy scores\n",
    "styled_df = results_df.style.highlight_max(color='green', subset=['Accuracy'])\n",
    "\n",
    "# Display the formatted DataFrame\n",
    "display(styled_df) "
   ]
  },
  {
   "cell_type": "markdown",
   "id": "a34a0484",
   "metadata": {},
   "source": [
    "From the results, we can see that the __RF__ model had the best performance, with an accuracy of 98%, followed by ANN, KNN and SVM.\n",
    "\n",
    "Keep in mind that no hyperparameters of the models were tunned. __<font size = 3 ><span style=\"color: orange;\"> I highly encourage the reader to go back to the ML models and play with its hyperparameters, to understand its imapcts on the classification results. </span></font>__ \n",
    "\n",
    "In this educational project focused on the classification of cosmetic formula stability, we embarked on a journey to leverage data science tools and ML algorithms to enhance our understanding and prediction capabilities in the realm of cosmetic formulation. Through simulated stability data and the application of various classification models, including K-Nearest Neighbors (KNN), Support Vector Machine (SVM), Random Forest, and Artificial Neural Network (ANN), we gained valuable insights into the performance and nuances of these approaches.\n",
    "\n",
    "__It is crucial to note that the features used in this study were based on data available on the internet, and while our models performed well, the practical relevance of these features in real-world formulations may require further investigation. Additionally, the simulated nature of the dataset may impact the direct applicability of our findings to actual cosmetic formulations.__\n",
    "\n",
    "Moving forward, there is an opportunity to refine our models by incorporating domain-specific knowledge from formulators and exploring more extensive and domain-specific datasets. This collaborative approach, combining data-driven insights with expert knowledge, can contribute to the development of more accurate and contextually relevant stability prediction models in the cosmetics industry.\n",
    "\n",
    "In conclusion, this educational project has unveiled the potential of data science and ML in the formulation stability domain. As we continue to bridge the gap between scientific methodologies and innovative technologies, we are poised to contribute meaningfully to the advancement of cosmetic science, paving the way for more efficient and informed formulation processes."
   ]
  }
 ],
 "metadata": {
  "kernelspec": {
   "display_name": "Python 3 (ipykernel)",
   "language": "python",
   "name": "python3"
  },
  "language_info": {
   "codemirror_mode": {
    "name": "ipython",
    "version": 3
   },
   "file_extension": ".py",
   "mimetype": "text/x-python",
   "name": "python",
   "nbconvert_exporter": "python",
   "pygments_lexer": "ipython3",
   "version": "3.9.7"
  },
  "varInspector": {
   "cols": {
    "lenName": 16,
    "lenType": 16,
    "lenVar": 40
   },
   "kernels_config": {
    "python": {
     "delete_cmd_postfix": "",
     "delete_cmd_prefix": "del ",
     "library": "var_list.py",
     "varRefreshCmd": "print(var_dic_list())"
    },
    "r": {
     "delete_cmd_postfix": ") ",
     "delete_cmd_prefix": "rm(",
     "library": "var_list.r",
     "varRefreshCmd": "cat(var_dic_list()) "
    }
   },
   "types_to_exclude": [
    "module",
    "function",
    "builtin_function_or_method",
    "instance",
    "_Feature"
   ],
   "window_display": false
  }
 },
 "nbformat": 4,
 "nbformat_minor": 5
}
